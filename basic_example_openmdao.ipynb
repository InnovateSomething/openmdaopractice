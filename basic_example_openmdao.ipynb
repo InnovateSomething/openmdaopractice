{
 "cells": [
  {
   "cell_type": "code",
   "execution_count": 1,
   "metadata": {},
   "outputs": [
    {
     "name": "stdout",
     "output_type": "stream",
     "text": [
      "Unable to import mpi4py. Parallel processing unavailable.\n",
      "Optimization terminated successfully.    (Exit mode 0)\n",
      "            Current function value: -27.33333333333333\n",
      "            Iterations: 5\n",
      "            Function evaluations: 6\n",
      "            Gradient evaluations: 5\n",
      "Optimization Complete\n",
      "-----------------------------------\n",
      "[-27.33333333]\n",
      "[6.66666667]\n",
      "[-7.33333333]\n"
     ]
    }
   ],
   "source": [
    "import openmdao.api as om\n",
    "\n",
    "# build the model \n",
    "prob = om.Problem() \n",
    "indeps = prob.model.add_subsystem('indeps', om.IndepVarComp()) \n",
    "indeps.add_output('x', 3.0) \n",
    "indeps.add_output('y', -4.0) \n",
    "\n",
    "prob.model.add_subsystem('paraboloid', om.ExecComp('f = (x-3)**2 + x*y + (y+4)**2 - 3')) \n",
    "\n",
    "prob.model.connect('indeps.x', 'paraboloid.x') \n",
    "prob.model.connect('indeps.y', 'paraboloid.y') \n",
    "\n",
    "prob.driver = om.ScipyOptimizeDriver() \n",
    "prob.driver.options['optimizer'] = 'SLSQP' \n",
    "\n",
    "prob.model.add_design_var('indeps.x', lower=-50, upper=50) \n",
    "prob.model.add_design_var('indeps.y', lower=-50, upper=50) \n",
    "prob.model.add_objective('paraboloid.f') \n",
    "\n",
    "prob.setup() \n",
    "prob.run_driver() \n",
    "\n",
    "# minimum value \n",
    "print(prob['paraboloid.f']) \n",
    "# location of the minimum \n",
    "print(prob['indeps.x']) \n",
    "print(prob['indeps.y'])"
   ]
  }
 ],
 "metadata": {
  "kernelspec": {
   "display_name": "Python 3",
   "language": "python",
   "name": "python3"
  },
  "language_info": {
   "codemirror_mode": {
    "name": "ipython",
    "version": 3
   },
   "file_extension": ".py",
   "mimetype": "text/x-python",
   "name": "python",
   "nbconvert_exporter": "python",
   "pygments_lexer": "ipython3",
   "version": "3.7.3"
  }
 },
 "nbformat": 4,
 "nbformat_minor": 2
}
